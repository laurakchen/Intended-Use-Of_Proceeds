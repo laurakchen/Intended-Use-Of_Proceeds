{
 "cells": [
  {
   "cell_type": "code",
   "execution_count": 3,
   "metadata": {},
   "outputs": [],
   "source": [
    "import os\n",
    "import datetime\n",
    "import numpy as np\n",
    "import pandas as pd\n",
    "import seaborn as sns\n",
    "import pandas_datareader as pdr\n",
    "import matplotlib.pyplot as plt\n",
    "from pandas_datareader.famafrench import get_available_datasets\n",
    "import pandas_datareader.data as web\n",
    "from pandas.tseries.offsets import MonthEnd\n",
    "import pytrends\n",
    "from pytrends.request import TrendReq\n",
    "pytrend = TrendReq() #hl='en-US', tz=360, timeout=(10,25), retries = 1000, backoff_factor=0.2)\n",
    "import time\n",
    "import random\n",
    "import csv"
   ]
  },
  {
   "cell_type": "markdown",
   "metadata": {},
   "source": [
    "#https://predictivehacks.com/get-google-trends-using-python/"
   ]
  },
  {
   "cell_type": "code",
   "execution_count": null,
   "metadata": {},
   "outputs": [],
   "source": []
  },
  {
   "cell_type": "markdown",
   "metadata": {},
   "source": [
    "Generate large dataframe with related words"
   ]
  },
  {
   "cell_type": "code",
   "execution_count": null,
   "metadata": {},
   "outputs": [],
   "source": [
    "#category numbers are from here:\n",
    "#https://github.com/pat310/google-trends-api/wiki/Google-Trends-Categories"
   ]
  },
  {
   "cell_type": "code",
   "execution_count": null,
   "metadata": {},
   "outputs": [],
   "source": []
  },
  {
   "cell_type": "code",
   "execution_count": null,
   "metadata": {},
   "outputs": [],
   "source": [
    "#Let's create a dataframe of network of degree \"end\" starting with query's in kw_list\n",
    "#the goal is to get a list of keywords generated from a seed list, then find the trends over time of each of the keywords"
   ]
  },
  {
   "cell_type": "code",
   "execution_count": null,
   "metadata": {},
   "outputs": [],
   "source": [
    "#This works, takes a while, let's if we can optimize\n",
    "#returns set of keywords from seed list. We will not use this!\n",
    "\"\"\"\"def get_kw_set(seed_list, count, end, result, fails):\n",
    "   \n",
    "    if count == end:\n",
    "        return result\n",
    "    else:\n",
    "        temp_dict = pytrend.related_queries()\n",
    "\n",
    "        for key in temp_dict.keys():\n",
    "\n",
    "            result.add(key) #assuming it's set\n",
    "            temp_list = temp_dict[key][\"top\"][\"query\"].tolist() #dictionary\n",
    "\n",
    "            for word in temp_list:\n",
    "                result.add(word)\n",
    "                new_kw_list = [word]\n",
    "                try:\n",
    "                    pytrend.build_payload(new_kw_list, geo = \"US\", cat = 7 & 19 & 12 & 958 & 16 & 520 & 29 , timeframe = \"2000-01-01 2020-01-01\" )\n",
    "                    temp = get_kw_set(new_kw_list, count+1, end, result, fails) #no point in readding to the set\n",
    "                    #so we just add a recursive call\n",
    "                    print(result)\n",
    "                    fails = 0\n",
    "                except:\n",
    "                    fails += 1\n",
    "                    print(\"exception raised\")\n",
    "                    delay = 2**fails + .001 * random.randrange(1, 1000)\n",
    "                    time.sleep(delay)\n",
    "                    print(\"backed off for \" + str(delay) + \" seconds\")\n",
    "                    if delay < 40:\n",
    "                        continue\n",
    "                    else:\n",
    "                        break\n",
    "                    \n",
    "        return result\n",
    "    \n",
    "\n",
    "\"\"\"\"    "
   ]
  },
  {
   "cell_type": "code",
   "execution_count": null,
   "metadata": {},
   "outputs": [],
   "source": []
  },
  {
   "cell_type": "code",
   "execution_count": null,
   "metadata": {},
   "outputs": [],
   "source": []
  },
  {
   "cell_type": "code",
   "execution_count": 4,
   "metadata": {},
   "outputs": [
    {
     "name": "stdout",
     "output_type": "stream",
     "text": [
      "<class 'list'>\n",
      "['us', 'says', 'trade', 'billion', 'new', 'china', 'ceo', 'deal', 'coronavirus', 'shares', 'oil', 'million', 'talks', 'will', 'sales', 'street', 'profit', 'tariffs', 'may', 'bank', 'trump', 'boeing', 'max', 'cut', 'sees', 'market', 'plans', 'hit', 'stocks', 'could', 'cuts', 'amid', 'growth', 'against', 'business', 'fed', 'airlines', 'eu', 'global', 'data', 'court', 'huawei', 'first', 'pay', 'buy', 'back', 'chinese', 'seeks', 'investors', 'production', 'war', 'uk', 'jobs', 'rise', 'chief', 'banks', 'uschina', 'record', 'stock', 'prices', 'tech', 'tariff', 'virus', 'fall', 'board', 'stake', 'chinas', 'next', 'firms', 'economy', 'ahead', 'plan', 'car', 'wall', 'big', 'hits', 'unit', 'boost', 'air', 'take', 'ipo', 'investment', 'top', 'year', 'demand', 'fund', 'bid', 'probe', 'auto', 'percent', 'despite', 'rate', 'electric', 'due', 'higher', 'saudi', 'output', 'government', 'warns', 'tesla', 'raises', 'sell', 'companies', 'end', 'group', 'house', 'antitrust', 'hopes', 'calls', 'chairman', 'markets', 'economic', 'plant', 'firm', 'state', 'revenue', 'workers', 'set', 'price', 'sale', 'job', 'faces', 'merger', 'still', 'airbus', 'expects', 'energy', 'fears', 'close', 'industry', 'forecast', 'face', 'drop', 'boss', 'tax', 'flights', 'executive', 'cars', 'dollar', 'estimates', 'falls', 'brexit', 'week', 'company', 'amazon', 'orders', 'two', 'push', 'apple', 'opec', 'consumer', 'steel', 'names', 'report', 'cash', 'canada', 'jet', 'german', 'facebook', 'seek', 'urges', 'mexico', 'supply', 'takes', 'rises', 'high', 'quarter', 'earnings', 'chrysler', 'financial', 'beats', 'rules', 'make', 'time', 'ghosn', 'open', 'factory', 'since', 'european', 'regulator', 'help', 'quarterly', 'get', 'iran', 'minister', 'wants', 'must', 'outlook', 'aramco', 'second', 'gains', 'keep', 'costs', 'meet', 'rates', 'launches', 'offer', 'case', 'investor', 'wins', 'sanctions', 'credit', 'gets', 'nissan', 'support', 'trumps', 'view', 'strong', 'cost', 'eyes', 'home', 'lower', 'fight', 'google', 'japan', 'former', 'french', 'rally', 'staff', 'low', 'finance', 'raise', 'risk', 'labor', 'delivery', 'america', 'crude', 'bond', 'south', 'head', 'reuters', 'york', 'world', 'five', 'launch', 'regulators', 'biggest', 'say', 'order', 'funds', 'sachs', 'trading', 'years', 'deutsche', 'claims', 'impact', 'fargo', 'union', 'nafta', 'debt', 'aims', 'would', 'north', 'possible', 'kong', 'maker', 'stores', 'covid', 'work', 'key', 'india', 'spending', 'concerns', 'crisis', 'drops', 'invest', 'judge', 'retail', 'seen', 'contract', 'cfo', 'gm', 'share', 'model', 'ends', 'posts', 'safety', 'pressure', 'policy', 'move', 'ban', 'meeting', 'loan', 'likely', 'pandemic', 'lawsuit', 'targets', 'europe', 'airline', 'aid', 'see', 'start', 'call', 'latest', 'korea', 'hong', 'three', 'surge', 'selfdriving', 'renault', 'need', 'online', 'power', 'asks', 'decision', 'airways', 'approval', 'executives', 'deals', 'white', 'sec', 'inflation', 'extends', 'small', 'step', 'sets', 'reports', 'foreign', 'money', 'feds', 'strike', 'capital', 'worries', 'review', 'early', 'bankruptcy', 'third', 'wont', 'france', 'watchdog', 'jump', 'jets', 'tensions', 'musk', 'service', 'loss', 'imports', 'management', 'central', 'settle', 'digital', 'offers', 'one', 'suspends', 'tells', 'signs', 'steps', 'build', 'services', 'lawmakers', 'shareholder', 'vehicle', 'change', 'uber', 'states', 'sector', 'weak', 'battle', 'june', 'risks', 'media', 'losses', 'return', 'health', 'rejects', 'software', 'chip', 'shareholders', 'test', 'exports', 'legal', 'euro', 'settlement', 'target', 'american', 'recovery', 'use', 'interest', 'forecasts', 'employees', 'st', 'brazil', 'day', 'delays', 'security', 'sourcesus', 'adds', 'results', 'win', 'part', 'drug', 'charges', 'russia', 'cook', 'vote', 'sues', 'travel', 'gain', 'march', 'goods', 'potential', 'fuel', 'agrees', 'corporate', 'ready', 'goldman', 'suisse', 'tops', 'near', 'privacy', 'crash', 'fiat', 'discuss', 'defense', 'british', 'wto', 'yields', 'euros', 'adviser', 'powell', 'cloud', 'hold', 'dispute', 'gives', 'hires', 'official', 'april', 'stop', 'united', 'delay', 'look', 'deliveries', 'president', 'focus', 'pm', 'beat', 'boosts', 'leave', 'trial', 'considers', 'emissions', 'asia', 'nearly', 'prosecutors', 'private', 'makes', 'major', 'assets', 'food', 'progress', 'operations', 'backs', 'challenge', 'files', 'expected', 'go', 'lead', 'denies', 'weekly', 'looks', 'customers', 'holiday', 'manufacturing', 'diesel', 'drive', 'california', 'battery', 'gas', 'sign', 'action', 'jobless', 'fraud', 'slide', 'news', 'changes', 'fine', 'loses', 'plants', 'buys', 'trillion', 'dividend', 'arabia', 'reach', 'moves', 'bets', 'brand', 'vehicles', 'recession', 'aircraft', 'partners', 'soon', 'officials', 'treasury', 'venture', 'climate', 'zte', 'another', 'issues', 'store', 'iphone', 'johnson', 'impeachment', 'police', 'cases', 'election', 'leader', 'border', 'syria', 'death', 'military', 'nuclear', 'parliament', 'democrats', 'presidential', 'attack', 'protests', 'nodeal', 'un', 'protesters', 'party', 'democratic', 'killed', 'bill', 'toll', 'attacks', 'labour', 'political', 'senate', 'fire', 'leaders', 'confirms', 'turkey', 'forces', 'britain', 'venezuela', 'people', 'opposition', 'supreme', 'emergency', 'campaign', 'tanker', 'iranian', 'deaths', 'law', 'mays', 'biden', 'protest', 'turkish', 'dead', 'russian', 'administration', 'ukraine', 'plane', 'mueller', 'panel', 'city', 'shooting', 'peace', 'iraq', 'troops', 'missile', 'congress', 'koreas', 'kim', 'black', 'general', 'response', 'governor', 'vows', 'national', 'summit', 'wuhan', 'force', 'irans', 'britains', 'want', 'zealand', 'americans', 'johnsons', 'rights', 'lockdown', 'ship', 'justice', 'man', 'islamic', 'outbreak', 'guaido', 'korean', 'stay', 'release', 'public', 'envoy', 'macron', 'threat', 'avoid', 'citizens', 'rule', 'east', 'threatens', 'gulf', 'agree', 'middle', 'debate', 'cruise', 'last', 'department', 'syrian', 'spread', 'irish', 'lawyer', 'race', 'visit', 'xi', 'conservative', 'shows', 'lawmaker', 'republican', 'sanders', 'show', 'venezuelas', 'block', 'condemns', 'migrant', 'send', 'social', 'maduro', 'tests', 'leaves', 'killing', 'attorney', 'candidate', 'violence', 'flight', 'lanka', 'good', 'dies', 'uks', 'republicans', 'arrest', 'army', 'control', 'four', 'closes', 'without', 'gun', 'extradition', 'around', 'way', 'london', 'germany', 'days', 'bans', 'found', 'washington', 'reopen', 'pms', 'ties', 'right', 'give', 'migrants', 'approves', 'positive', 'long', 'italy', 'halt', 'prince', 'least', 'urge', 'federal', 'working', 'defends', 'free', 'corbyn', 'countries', 'ruling', 'northern', 'asylum', 'accuses', 'among', 'putin', 'resume', 'extension', 'break', 'deadly', 'short', 'mass', 'kills', 'know', 'secretary', 'family', 'charged', 'sex', 'agency', 'agreement', 'exit', 'strikes', 'guilty', 'indian', 'measures', 'navy', 'bln', 'stockswall', 'fx', 'marketsstocks', 'month', 'stockstsx', 'stimulus', 'digest', 'zone', 'mln', 'bonds', 'update', 'ecb', 'snapshotwall', 'marketsasian', 'budget', 'gdp', 'highs', 'opens', 'steady', 'stocksfutures', 'futures', 'optimism', 'stockss', 'sterling', 'slips', 'easing', 'marketslatam', 'real', 'brazils', 'edge', 'repo', 'times', 'currencies', 'yen', 'govt', 'slip', 'holds', 'imf', 'loans', 'activity', 'ease', 'jumps', 'index', 'relief', 'lows', 'debtcanadian', 'deficit', 'flat', 'fiscal', 'marketsasia', 'cbank', 'edges', 'dips', 'lift', 'pound', 'yuan', 'yield', 'funding', 'oct', 'accepts', 'nasdaq', 'worst', 'latam', 'negative', 'eases', 'lebanon', 'gold', 'peso', 'fresh', 'tumble', 'rebound', 'boj', 'sourcesupdate', 'swiss', 'mixed', 'vs', 'keeps', 'slump', 'debtloonie', 'lifts', 'dip', 'journal', 'slides', 'feb', 'package', 'upbeat', 'sept', 'lending', 'traders', 'liquidity', 'plunge', 'extend', 'rescue', 'unemployment', 'dec', 'daymergers', 'banking', 'nov', 'climb', 'jan', 'coronavirusupdate', 'currency', 'overnight', 'cenbank', 'rising', 'equity', 'marketsshares', 'lowest', 'japans', 'weakens', 'press', 'dow', 'climbs', 'weigh', 'weaker', 'inch', 'industrial', 'uncertainty', 'decline', 'deadline', 'pension', 'canadas', 'best', 'needs', 'dataupdate', 'slightly', 'pmi', 'eye', 'wave', 'await', 'debtc', 'lira', 'cautious', 'hedge', 'talk', 'announces', 'daily', 'surges', 'tumbles', 'post', 'italian', 'peak', 'pushes', 'safehaven', 'african', 'argentina', 'pace', 'england', 'leads', 'points', 'sources', 'cyber', 'samsung', 'exclusive', 'app', 'mobile', 'twitter', 'microsoft', 'internet', 'bitcoin', 'source', 'startup', 'alibaba', 'technology', 'smartphone', 'network', 'toshiba', 'users', 'electronics', 'video', 'qualcomm', 'sony', 'softbank', 'yahoo', 'telecom', 'breach', 'phone', 'indias', 'cryptocurrency', 'wsj', 'nokia', 'tv', 'hackers', 'facebooks', 'intel', 'patent', 'factbox', 'blockchain', 'hack', 'hacking', 'netflix', 'apps', 'streaming', 'tencent', 'bloomberg', 'apples', 'platform', 'ibm', 'ad', 'ads', 'content', 'payments', 'ecommerce', 'game', 'unveils', 'drivers', 'verizon', 'system', 'fcc', 'tmobile', 'rivals', 'startups', 'telecoms', 'virtual', 'israeli', 'sprint', 'expand', 'ai', 'center', 'music', 'blackberry', 'rival', 'lyft', 'website', 'whatsapp', 'cybersecurity', 'youtube', 'net', 'lg', 'competition', 'phones', 'exchange', 'silicon', 'access', 'payment', 'ridehailing', 'search', 'fintech', 'amazons', 'chips', 'display', 'auction', 'teslas', 'web', 'team', 'valley', 'license', 'wireless', 'expands', 'accounts', 'games', 'foxconn', 'others', 'appeal', 'googles', 'sharp', 'android', 'future', 'singapore', 'xiaomi', 'invests', 'alibabas', 'networks', 'partnership', 'debut', 'chipmaker', 'hp', 'drone', 'note', 'ebay', 'taxi', 'devices', 'alphabet', 'smart', 'vodafone', 'partner', 'project', 'systems', 'neutrality', 'giants', 'intelligence', 'zuckerberg', 'join', 'founder', 'round', 'expansion', 'study', 'baidu', 'spotify', 'probes', 'sap', 'line', 'warner', 'reality', 'toyota', 'galaxy', 'computer', 'ubers', 'robot']\n"
     ]
    }
   ],
   "source": [
    "import csv\n",
    "import numpy as np\n",
    "with open('top1000words.csv', newline='') as f:\n",
    "    reader = csv.reader(f)\n",
    "    data = list(reader)\n",
    "    data = np.array(data).flatten().tolist()\n",
    "\n",
    "print(type(data))\n",
    "print(data)\n"
   ]
  },
  {
   "cell_type": "code",
   "execution_count": null,
   "metadata": {},
   "outputs": [
    {
     "name": "stdout",
     "output_type": "stream",
     "text": [
      "exception raised\n",
      "...backed off for 2.285 seconds\n",
      "exception raised\n",
      "...backed off for 4.748 seconds\n",
      "exception raised\n",
      "...backed off for 2.667 seconds\n",
      "exception raised\n",
      "...backed off for 2.64 seconds\n",
      "exception raised\n",
      "...backed off for 2.467 seconds\n",
      "exception raised\n",
      "...backed off for 2.374 seconds\n",
      "exception raised\n",
      "...backed off for 2.417 seconds\n",
      "exception raised\n",
      "...backed off for 4.671 seconds\n",
      "exception raised\n",
      "...backed off for 8.738 seconds\n",
      "exception raised\n",
      "...backed off for 16.757 seconds\n",
      "exception raised\n",
      "...backed off for 32.489 seconds\n",
      "exception raised\n",
      "...backed off for 64.203 seconds\n",
      "exception raised\n",
      "...backed off for 128.649 seconds\n",
      "exception raised\n",
      "...backed off for 256.341 seconds\n",
      "exception raised\n",
      "...backed off for 512.014 seconds\n",
      "exception raised\n",
      "...backed off for 1024.107 seconds\n",
      "exception raised\n"
     ]
    }
   ],
   "source": [
    "#once we have list of keywords\n",
    "\n",
    "searches = data\n",
    "groupkeywords = list(zip(*[iter(searches)]*1))\n",
    "groupkeywords = [list(x) for x in groupkeywords]\n",
    "\n",
    "dicti = {}\n",
    "i = 1\n",
    "fails = 0\n",
    "for trending in groupkeywords:\n",
    "    try:\n",
    "        pytrend.build_payload(trending, cat = 7 & 19 & 12 & 958 & 16 & 520 & 29 , timeframe = \"2006-01-01 2020-07-01\")\n",
    "        dicti[i] = pytrend.interest_over_time()\n",
    "        i+=1\n",
    "\n",
    "        df = pd.concat(dicti, axis=1)\n",
    "        df.columns = df.columns.droplevel(0)\n",
    "        df = df.drop('isPartial', axis = 1)\n",
    "        fails = 0\n",
    "    except:\n",
    "        print(\"exception raised\")\n",
    "        fails += 1\n",
    "        delay = 2**fails + .001*random.randrange(1,1000)\n",
    "        time.sleep(delay)\n",
    "        print(\"...backed off for \" + str(delay) + \" seconds\")\n",
    "        #continue\n",
    "        pass #originally continued, let's see if words get skipped\n",
    "\n",
    "df\n",
    "df.to_csv('gt_2005_2020.csv', encoding='utf_8_sig')"
   ]
  },
  {
   "cell_type": "code",
   "execution_count": null,
   "metadata": {},
   "outputs": [],
   "source": [
    "df"
   ]
  },
  {
   "cell_type": "code",
   "execution_count": 6,
   "metadata": {},
   "outputs": [],
   "source": [
    "df.to_csv('test.csv', encoding='utf_8_sig')"
   ]
  },
  {
   "cell_type": "code",
   "execution_count": 14,
   "metadata": {},
   "outputs": [
    {
     "name": "stdout",
     "output_type": "stream",
     "text": [
      "['journal', 'family', 'stocksfutures', 'stockss', 'competition', 'lyft', 'sterling', 'show', 'needs', 'weakens', 'uncertainty', 'bonds', 'stockstsx', 'jumps', 'facebooks', 'safety', 'expansion', 'ties', 'expand', 'yield', 'phone', 'pace', 'rising', 'attorney', 'breach', 'condemns', 'study', 'tmobile', 'smart', 'among', 'pound', 'zuckerberg', 'tests', 'deficit', 'candidate', 'real', 'african', 'extend', 'daymergers', 'urge', 'games', 'federal', 'keeps', 'center', 'around', 'silicon', 'free', 'ecb', 'know', 'corbyn', 'drone', 'venezuelas', 'mln', 'wave', 'agreement', 'congress', 'robot', 'republican', 'android', 'action', 'highs', 'marketslatam', 'decline', 'use', 'sign', 'license', 'systems', 'edge', 'slightly', 'extradition', 'oct', 'approves', 'extension', 'steady', 'army', 'deadline', 'shareholders', 'alibabas', 'lg', 'weigh', 'maduro', 'liquidity', 'cyber', 'banking', 'galaxy', 'equity', 'accuses', 'surges', 'wants', 'rescue', 'invests', 'tumble', 'search', 'control', 'index', 'electronics', 'lows', 'republicans', 'cbank', 'mass', 'accounts', 'marketsasian', 'intelligence', 'killing', 'weaker', 'boj', 'startup', 'halt', 'stimulus', 'pmi', 'ai', 'telecom', 'future', 'system', 'funding', 'display', 'way', 'blockchain', 'weekly', 'lanka', 'ruling', 'days', 'washington', 'users', 'putin', 'googles', 'ibm', 'unemployment', 'hacking', 'germany', 'lifts', 'fcc', 'gun', 'exchange', 'upbeat', 'softbank', 'reality', 'indias', 'nasdaq', 'apps', 'qualcomm', 'lebanon', 'apples', 'hackers', 'network', 'dies', 'bln', 'partner', 'wsj', 'countries', 'stockswall', 'source', 'traders', 'neutrality', 'note', 'factbox', 'budget', 'startups', 'rates', 'measures', 'futures', 'zone', 'appeal', 'found', 'talk', 'israeli', 'reopen', 'rate', 'giants', 'nokia', 'ease', 'eases', 'slump', 'break', 'uks', 'exclusive', 'without', 'pushes', 'gdp', 'package', 'fintech', 'lawmaker', 'video', 'announces', 'kills', 'internet', 'fiscal', 'migrants', 'negative', 'game', 'hp', 'defends', 'hedge', 'website', 'electric', 'baidu', 'italian', 'flat', 'latam', 'computer', 'closes', 'sex', 'northern', 'climb', 'debut', 'fx', 'devices', 'join', 'feb', 'yen', 'debtcanadian', 'round', 'repo', 'payments', 'technology', 'worst', 'leads', 'toyota', 'eye', 'optimism', 'whatsapp', 'brazils', 'mixed', 'alphabet', 'sourcesupdate', 'wireless', 'holds', 'amazons', 'bans', 'least', 'valley', 'imf', 'sept', 'lawsuit', 'snapshotwall', 'bitcoin', 'overnight', 'partnership', 'england', 'vs', 'hack', 'unveils', 'iran', 'exit', 'peso', 'content', 'migrant', 'plunge', 'lira', 'slides', 'phones', 'resume', 'marketsstocks', 'lowest', 'short', 'violence', 'foxconn', 'cenbank', 'spotify', 'sanders', 'yuan', 'pension', 'relief', 'dow', 'bloomberg', 'navy', 'marketsshares', 'cybersecurity', 'flight', 'social', 'despite', 'climbs', 'give', 'prince', 'sprint', 'chipmaker', 'intel', 'chips', 'sourcesus', 'coronavirusupdate', 'debtloonie', 'team', 'missile', 'edges', 'rival', 'toshiba', 'peak', 'easing', 'press', 'digest', 'taxi', 'twitter', 'platform', 'ad', 'jan', 'italy', 'alibaba', 'minister', 'debtc', 'fresh', 'points', 'industrial', 'right', 'guilty', 'telecoms', 'xiaomi', 'activity', 'ridehailing', 'singapore', 'line', 'dataupdate', 'currencies', 'nov', 'samsung', 'netflix', 'warner', 'youtube', 'shows', 'agency', 'music', 'rebound', 'marketsasia', 'strikes', 'yahoo', 'ecommerce', 'others', 'teslas', 'secretary', 'slip', 'argentina', 'post', 'lift', 'access', 'tv', 'web', 'mobile', 'govt', 'rivals', 'cautious', 'tumbles', 'send', 'probes', 'tencent', 'interest', 'arrest', 'positive', 'app', 'canadas', 'drivers', 'vodafone']\n"
     ]
    }
   ],
   "source": [
    "#let's see what words were not used\n",
    "#searches is original with 1000 words\n",
    "out = df.columns.tolist()\n",
    "set_difference = set(searches) - set(out)\n",
    "list_difference = list(set_difference)\n",
    "\n",
    "print(list_difference)"
   ]
  },
  {
   "cell_type": "code",
   "execution_count": null,
   "metadata": {},
   "outputs": [],
   "source": []
  }
 ],
 "metadata": {
  "kernelspec": {
   "display_name": "Python 3",
   "language": "python",
   "name": "python3"
  },
  "language_info": {
   "codemirror_mode": {
    "name": "ipython",
    "version": 3
   },
   "file_extension": ".py",
   "mimetype": "text/x-python",
   "name": "python",
   "nbconvert_exporter": "python",
   "pygments_lexer": "ipython3",
   "version": "3.6.6"
  }
 },
 "nbformat": 4,
 "nbformat_minor": 4
}
